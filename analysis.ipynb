{
 "cells": [
  {
   "cell_type": "code",
   "execution_count": 55,
   "metadata": {
    "collapsed": true
   },
   "outputs": [],
   "source": [
    "import numpy as np\n",
    "import pandas as pd"
   ]
  },
  {
   "cell_type": "code",
   "execution_count": 56,
   "metadata": {
    "collapsed": true
   },
   "outputs": [],
   "source": [
    "def compute_precision_at_k(relevances, k):\n",
    "    trimmed_rel = relevances[:k]\n",
    "\n",
    "    tp = sum(trimmed_rel == 1)\n",
    "    return tp / float(k)\n",
    "\n",
    "def compute_dcg(relevance, ranks,k):\n",
    "#     assert(len(relevances) == len(ranks))\n",
    "    trimmed_rel = relevance[:k]\n",
    "    trimmed_ranks = ranks[:k]\n",
    "    return np.sum(np.divide(\n",
    "        trimmed_rel,\n",
    "        np.log2(trimmed_ranks + 1),\n",
    "         ))"
   ]
  },
  {
   "cell_type": "code",
   "execution_count": 57,
   "metadata": {
    "collapsed": false
   },
   "outputs": [],
   "source": [
    "df_exp = pd.read_csv('data/full_results-with-subject.csv')\n",
    "df_truth = pd.read_csv('data/LA-only.trec8-401.450.minus416-423-437-444-447.txt', header=None, sep=' ')\n",
    "df_truth.columns = ['topicID', 'q', 'docno', 'relevance']\n",
    "df_truth.drop(['q'], axis=1,inplace=True)"
   ]
  },
  {
   "cell_type": "code",
   "execution_count": 58,
   "metadata": {
    "collapsed": false
   },
   "outputs": [],
   "source": [
    "df_j =pd.merge(df_exp, df_truth, on=['topicID', 'docno'], how='left').fillna(0)"
   ]
  },
  {
   "cell_type": "code",
   "execution_count": 67,
   "metadata": {
    "collapsed": false
   },
   "outputs": [
    {
     "data": {
      "text/html": [
       "<div>\n",
       "<table border=\"1\" class=\"dataframe\">\n",
       "  <thead>\n",
       "    <tr style=\"text-align: right;\">\n",
       "      <th></th>\n",
       "      <th>docno</th>\n",
       "      <th>q0</th>\n",
       "      <th>query</th>\n",
       "      <th>rank</th>\n",
       "      <th>runTag</th>\n",
       "      <th>run_time</th>\n",
       "      <th>score</th>\n",
       "      <th>topicID</th>\n",
       "      <th>relevance</th>\n",
       "    </tr>\n",
       "  </thead>\n",
       "  <tbody>\n",
       "    <tr>\n",
       "      <th>1368</th>\n",
       "      <td>LA070390-0077</td>\n",
       "      <td>0</td>\n",
       "      <td>Ireland, peace talks</td>\n",
       "      <td>1</td>\n",
       "      <td>cjngan_run0</td>\n",
       "      <td>0.168155</td>\n",
       "      <td>19.736302</td>\n",
       "      <td>404</td>\n",
       "      <td>0</td>\n",
       "    </tr>\n",
       "    <tr>\n",
       "      <th>1369</th>\n",
       "      <td>LA070289-0091</td>\n",
       "      <td>0</td>\n",
       "      <td>Ireland, peace talks</td>\n",
       "      <td>2</td>\n",
       "      <td>cjngan_run0</td>\n",
       "      <td>0.168155</td>\n",
       "      <td>15.965651</td>\n",
       "      <td>404</td>\n",
       "      <td>0</td>\n",
       "    </tr>\n",
       "    <tr>\n",
       "      <th>1370</th>\n",
       "      <td>LA070490-0024</td>\n",
       "      <td>0</td>\n",
       "      <td>Ireland, peace talks</td>\n",
       "      <td>3</td>\n",
       "      <td>cjngan_run0</td>\n",
       "      <td>0.168155</td>\n",
       "      <td>14.574969</td>\n",
       "      <td>404</td>\n",
       "      <td>0</td>\n",
       "    </tr>\n",
       "    <tr>\n",
       "      <th>1371</th>\n",
       "      <td>LA070789-0010</td>\n",
       "      <td>0</td>\n",
       "      <td>Ireland, peace talks</td>\n",
       "      <td>4</td>\n",
       "      <td>cjngan_run0</td>\n",
       "      <td>0.168155</td>\n",
       "      <td>14.392684</td>\n",
       "      <td>404</td>\n",
       "      <td>0</td>\n",
       "    </tr>\n",
       "    <tr>\n",
       "      <th>1372</th>\n",
       "      <td>LA121090-0081</td>\n",
       "      <td>0</td>\n",
       "      <td>Ireland, peace talks</td>\n",
       "      <td>5</td>\n",
       "      <td>cjngan_run0</td>\n",
       "      <td>0.168155</td>\n",
       "      <td>14.315660</td>\n",
       "      <td>404</td>\n",
       "      <td>0</td>\n",
       "    </tr>\n",
       "    <tr>\n",
       "      <th>1373</th>\n",
       "      <td>LA060290-0120</td>\n",
       "      <td>0</td>\n",
       "      <td>Ireland, peace talks</td>\n",
       "      <td>6</td>\n",
       "      <td>cjngan_run0</td>\n",
       "      <td>0.168155</td>\n",
       "      <td>13.793831</td>\n",
       "      <td>404</td>\n",
       "      <td>0</td>\n",
       "    </tr>\n",
       "    <tr>\n",
       "      <th>1374</th>\n",
       "      <td>LA111290-0101</td>\n",
       "      <td>0</td>\n",
       "      <td>Ireland, peace talks</td>\n",
       "      <td>7</td>\n",
       "      <td>cjngan_run0</td>\n",
       "      <td>0.168155</td>\n",
       "      <td>13.619613</td>\n",
       "      <td>404</td>\n",
       "      <td>0</td>\n",
       "    </tr>\n",
       "    <tr>\n",
       "      <th>1375</th>\n",
       "      <td>LA111389-0059</td>\n",
       "      <td>0</td>\n",
       "      <td>Ireland, peace talks</td>\n",
       "      <td>8</td>\n",
       "      <td>cjngan_run0</td>\n",
       "      <td>0.168155</td>\n",
       "      <td>13.593535</td>\n",
       "      <td>404</td>\n",
       "      <td>0</td>\n",
       "    </tr>\n",
       "    <tr>\n",
       "      <th>1376</th>\n",
       "      <td>LA022490-0037</td>\n",
       "      <td>0</td>\n",
       "      <td>Ireland, peace talks</td>\n",
       "      <td>9</td>\n",
       "      <td>cjngan_run0</td>\n",
       "      <td>0.168155</td>\n",
       "      <td>13.448977</td>\n",
       "      <td>404</td>\n",
       "      <td>0</td>\n",
       "    </tr>\n",
       "    <tr>\n",
       "      <th>1377</th>\n",
       "      <td>LA090689-0068</td>\n",
       "      <td>0</td>\n",
       "      <td>Ireland, peace talks</td>\n",
       "      <td>10</td>\n",
       "      <td>cjngan_run0</td>\n",
       "      <td>0.168155</td>\n",
       "      <td>13.373159</td>\n",
       "      <td>404</td>\n",
       "      <td>0</td>\n",
       "    </tr>\n",
       "  </tbody>\n",
       "</table>\n",
       "</div>"
      ],
      "text/plain": [
       "              docno  q0                 query  rank       runTag  run_time  \\\n",
       "1368  LA070390-0077   0  Ireland, peace talks     1  cjngan_run0  0.168155   \n",
       "1369  LA070289-0091   0  Ireland, peace talks     2  cjngan_run0  0.168155   \n",
       "1370  LA070490-0024   0  Ireland, peace talks     3  cjngan_run0  0.168155   \n",
       "1371  LA070789-0010   0  Ireland, peace talks     4  cjngan_run0  0.168155   \n",
       "1372  LA121090-0081   0  Ireland, peace talks     5  cjngan_run0  0.168155   \n",
       "1373  LA060290-0120   0  Ireland, peace talks     6  cjngan_run0  0.168155   \n",
       "1374  LA111290-0101   0  Ireland, peace talks     7  cjngan_run0  0.168155   \n",
       "1375  LA111389-0059   0  Ireland, peace talks     8  cjngan_run0  0.168155   \n",
       "1376  LA022490-0037   0  Ireland, peace talks     9  cjngan_run0  0.168155   \n",
       "1377  LA090689-0068   0  Ireland, peace talks    10  cjngan_run0  0.168155   \n",
       "\n",
       "          score  topicID  relevance  \n",
       "1368  19.736302      404          0  \n",
       "1369  15.965651      404          0  \n",
       "1370  14.574969      404          0  \n",
       "1371  14.392684      404          0  \n",
       "1372  14.315660      404          0  \n",
       "1373  13.793831      404          0  \n",
       "1374  13.619613      404          0  \n",
       "1375  13.593535      404          0  \n",
       "1376  13.448977      404          0  \n",
       "1377  13.373159      404          0  "
      ]
     },
     "execution_count": 67,
     "metadata": {},
     "output_type": "execute_result"
    }
   ],
   "source": [
    "df_j[df_j['topicID'] == 404].head(10)"
   ]
  },
  {
   "cell_type": "code",
   "execution_count": 60,
   "metadata": {
    "collapsed": false
   },
   "outputs": [
    {
     "data": {
      "text/html": [
       "<div>\n",
       "<table border=\"1\" class=\"dataframe\">\n",
       "  <thead>\n",
       "    <tr style=\"text-align: right;\">\n",
       "      <th></th>\n",
       "      <th>docno</th>\n",
       "      <th>q0</th>\n",
       "      <th>query</th>\n",
       "      <th>rank</th>\n",
       "      <th>runTag</th>\n",
       "      <th>run_time</th>\n",
       "      <th>score</th>\n",
       "      <th>topicID</th>\n",
       "      <th>relevance</th>\n",
       "    </tr>\n",
       "  </thead>\n",
       "  <tbody>\n",
       "    <tr>\n",
       "      <th>0</th>\n",
       "      <td>LA101790-0075</td>\n",
       "      <td>0</td>\n",
       "      <td>foreign minorities, Germany</td>\n",
       "      <td>1</td>\n",
       "      <td>cjngan_run0</td>\n",
       "      <td>0.375591</td>\n",
       "      <td>13.119502</td>\n",
       "      <td>401</td>\n",
       "      <td>0</td>\n",
       "    </tr>\n",
       "    <tr>\n",
       "      <th>1</th>\n",
       "      <td>LA021890-0100</td>\n",
       "      <td>0</td>\n",
       "      <td>foreign minorities, Germany</td>\n",
       "      <td>2</td>\n",
       "      <td>cjngan_run0</td>\n",
       "      <td>0.375591</td>\n",
       "      <td>12.766692</td>\n",
       "      <td>401</td>\n",
       "      <td>0</td>\n",
       "    </tr>\n",
       "    <tr>\n",
       "      <th>2</th>\n",
       "      <td>LA121289-0099</td>\n",
       "      <td>0</td>\n",
       "      <td>foreign minorities, Germany</td>\n",
       "      <td>3</td>\n",
       "      <td>cjngan_run0</td>\n",
       "      <td>0.375591</td>\n",
       "      <td>12.572463</td>\n",
       "      <td>401</td>\n",
       "      <td>0</td>\n",
       "    </tr>\n",
       "    <tr>\n",
       "      <th>3</th>\n",
       "      <td>LA050690-0109</td>\n",
       "      <td>0</td>\n",
       "      <td>foreign minorities, Germany</td>\n",
       "      <td>4</td>\n",
       "      <td>cjngan_run0</td>\n",
       "      <td>0.375591</td>\n",
       "      <td>12.472119</td>\n",
       "      <td>401</td>\n",
       "      <td>0</td>\n",
       "    </tr>\n",
       "    <tr>\n",
       "      <th>4</th>\n",
       "      <td>LA031590-0102</td>\n",
       "      <td>0</td>\n",
       "      <td>foreign minorities, Germany</td>\n",
       "      <td>5</td>\n",
       "      <td>cjngan_run0</td>\n",
       "      <td>0.375591</td>\n",
       "      <td>12.459015</td>\n",
       "      <td>401</td>\n",
       "      <td>0</td>\n",
       "    </tr>\n",
       "    <tr>\n",
       "      <th>5</th>\n",
       "      <td>LA050990-0043</td>\n",
       "      <td>0</td>\n",
       "      <td>foreign minorities, Germany</td>\n",
       "      <td>6</td>\n",
       "      <td>cjngan_run0</td>\n",
       "      <td>0.375591</td>\n",
       "      <td>12.383075</td>\n",
       "      <td>401</td>\n",
       "      <td>0</td>\n",
       "    </tr>\n",
       "    <tr>\n",
       "      <th>6</th>\n",
       "      <td>LA040590-0157</td>\n",
       "      <td>0</td>\n",
       "      <td>foreign minorities, Germany</td>\n",
       "      <td>7</td>\n",
       "      <td>cjngan_run0</td>\n",
       "      <td>0.375591</td>\n",
       "      <td>12.277891</td>\n",
       "      <td>401</td>\n",
       "      <td>0</td>\n",
       "    </tr>\n",
       "    <tr>\n",
       "      <th>7</th>\n",
       "      <td>LA021590-0209</td>\n",
       "      <td>0</td>\n",
       "      <td>foreign minorities, Germany</td>\n",
       "      <td>8</td>\n",
       "      <td>cjngan_run0</td>\n",
       "      <td>0.375591</td>\n",
       "      <td>12.200374</td>\n",
       "      <td>401</td>\n",
       "      <td>0</td>\n",
       "    </tr>\n",
       "    <tr>\n",
       "      <th>8</th>\n",
       "      <td>LA050789-0068</td>\n",
       "      <td>0</td>\n",
       "      <td>foreign minorities, Germany</td>\n",
       "      <td>9</td>\n",
       "      <td>cjngan_run0</td>\n",
       "      <td>0.375591</td>\n",
       "      <td>12.098091</td>\n",
       "      <td>401</td>\n",
       "      <td>1</td>\n",
       "    </tr>\n",
       "    <tr>\n",
       "      <th>9</th>\n",
       "      <td>LA021490-0049</td>\n",
       "      <td>0</td>\n",
       "      <td>foreign minorities, Germany</td>\n",
       "      <td>10</td>\n",
       "      <td>cjngan_run0</td>\n",
       "      <td>0.375591</td>\n",
       "      <td>12.095365</td>\n",
       "      <td>401</td>\n",
       "      <td>0</td>\n",
       "    </tr>\n",
       "  </tbody>\n",
       "</table>\n",
       "</div>"
      ],
      "text/plain": [
       "           docno  q0                        query  rank       runTag  \\\n",
       "0  LA101790-0075   0  foreign minorities, Germany     1  cjngan_run0   \n",
       "1  LA021890-0100   0  foreign minorities, Germany     2  cjngan_run0   \n",
       "2  LA121289-0099   0  foreign minorities, Germany     3  cjngan_run0   \n",
       "3  LA050690-0109   0  foreign minorities, Germany     4  cjngan_run0   \n",
       "4  LA031590-0102   0  foreign minorities, Germany     5  cjngan_run0   \n",
       "5  LA050990-0043   0  foreign minorities, Germany     6  cjngan_run0   \n",
       "6  LA040590-0157   0  foreign minorities, Germany     7  cjngan_run0   \n",
       "7  LA021590-0209   0  foreign minorities, Germany     8  cjngan_run0   \n",
       "8  LA050789-0068   0  foreign minorities, Germany     9  cjngan_run0   \n",
       "9  LA021490-0049   0  foreign minorities, Germany    10  cjngan_run0   \n",
       "\n",
       "   run_time      score  topicID  relevance  \n",
       "0  0.375591  13.119502      401          0  \n",
       "1  0.375591  12.766692      401          0  \n",
       "2  0.375591  12.572463      401          0  \n",
       "3  0.375591  12.472119      401          0  \n",
       "4  0.375591  12.459015      401          0  \n",
       "5  0.375591  12.383075      401          0  \n",
       "6  0.375591  12.277891      401          0  \n",
       "7  0.375591  12.200374      401          0  \n",
       "8  0.375591  12.098091      401          1  \n",
       "9  0.375591  12.095365      401          0  "
      ]
     },
     "execution_count": 60,
     "metadata": {},
     "output_type": "execute_result"
    }
   ],
   "source": [
    "df_j.head(10)"
   ]
  },
  {
   "cell_type": "code",
   "execution_count": 61,
   "metadata": {
    "collapsed": false
   },
   "outputs": [
    {
     "name": "stderr",
     "output_type": "stream",
     "text": [
      "/usr/local/lib/python2.7/site-packages/ipykernel/__main__.py:9: FutureWarning: sort(columns=....) is deprecated, use sort_values(by=.....)\n",
      "/usr/local/lib/python2.7/site-packages/ipykernel/__main__.py:12: FutureWarning: sort(columns=....) is deprecated, use sort_values(by=.....)\n"
     ]
    }
   ],
   "source": [
    "precisions = []\n",
    "ndcgs = []\n",
    "k = 10\n",
    "for g, df_g in df_j.groupby('topicID'):\n",
    "    if g not in [416, 423, 437, 444, 447]:\n",
    "        \n",
    "#         rank_indexes = df_g['rank'] <= k\n",
    "#         ranks = df_g[rank_indexes]['rank']\n",
    "        relevances = df_g.sort('rank', ascending=True)['relevance']\n",
    "        ranks = np.array(xrange(1,k+1))\n",
    "        ### all results matching the query\n",
    "        true_relevancy = df_truth[df_truth['topicID'] == g].sort('relevance', ascending=False)['relevance']\n",
    "        k_ideal_relevance = true_relevancy[:k]\n",
    "        \n",
    "        \n",
    "        precisions.append(compute_precision_at_k(relevances, k))\n",
    "        \n",
    "        ideal_dcg = compute_dcg(k_ideal_relevance, ranks,k)\n",
    "        m_dcg = compute_dcg(relevances, ranks,k)\n",
    "        ndcgs.append(m_dcg/ideal_dcg)"
   ]
  },
  {
   "cell_type": "code",
   "execution_count": 62,
   "metadata": {
    "collapsed": false
   },
   "outputs": [
    {
     "name": "stdout",
     "output_type": "stream",
     "text": [
      "0.33335319947\n",
      "0.255555555556\n"
     ]
    }
   ],
   "source": [
    "print np.mean(ndcgs)\n",
    "print np.mean(precisions)"
   ]
  },
  {
   "cell_type": "code",
   "execution_count": 63,
   "metadata": {
    "collapsed": false
   },
   "outputs": [
    {
     "data": {
      "text/plain": [
       "<matplotlib.axes._subplots.AxesSubplot at 0x106ac6410>"
      ]
     },
     "execution_count": 63,
     "metadata": {},
     "output_type": "execute_result"
    },
    {
     "data": {
      "image/png": "[encoded data removed]",
      "text/plain": [
       "<matplotlib.figure.Figure at 0x10730cdd0>"
      ]
     },
     "metadata": {},
     "output_type": "display_data"
    }
   ],
   "source": [
    "import seaborn as sns\n",
    "%matplotlib inline\n",
    "sns.distplot(precisions)\n",
    "sns.distplot(ndcgs)"
   ]
  },
  {
   "cell_type": "code",
   "execution_count": 64,
   "metadata": {
    "collapsed": false
   },
   "outputs": [
    {
     "data": {
      "text/plain": [
       "[0.10000000000000001,\n",
       " 0.20000000000000001,\n",
       " 0.59999999999999998,\n",
       " 0.0,\n",
       " 0.20000000000000001,\n",
       " 0.20000000000000001,\n",
       " 0.40000000000000002,\n",
       " 0.5,\n",
       " 0.10000000000000001,\n",
       " 0.40000000000000002,\n",
       " 0.20000000000000001,\n",
       " 0.69999999999999996,\n",
       " 0.0,\n",
       " 0.10000000000000001,\n",
       " 0.10000000000000001,\n",
       " 0.69999999999999996,\n",
       " 0.69999999999999996,\n",
       " 0.20000000000000001,\n",
       " 0.80000000000000004,\n",
       " 0.0,\n",
       " 0.5,\n",
       " 0.10000000000000001,\n",
       " 0.59999999999999998,\n",
       " 0.29999999999999999,\n",
       " 0.20000000000000001,\n",
       " 0.10000000000000001,\n",
       " 0.10000000000000001,\n",
       " 0.40000000000000002,\n",
       " 0.0,\n",
       " 0.0,\n",
       " 0.0,\n",
       " 0.10000000000000001,\n",
       " 0.10000000000000001,\n",
       " 0.69999999999999996,\n",
       " 0.10000000000000001,\n",
       " 0.0,\n",
       " 0.5,\n",
       " 0.59999999999999998,\n",
       " 0.20000000000000001,\n",
       " 0.20000000000000001,\n",
       " 0.20000000000000001,\n",
       " 0.0,\n",
       " 0.0,\n",
       " 0.0,\n",
       " 0.29999999999999999]"
      ]
     },
     "execution_count": 64,
     "metadata": {},
     "output_type": "execute_result"
    }
   ],
   "source": [
    "precisions"
   ]
  },
  {
   "cell_type": "code",
   "execution_count": 65,
   "metadata": {
    "collapsed": false
   },
   "outputs": [
    {
     "data": {
      "text/plain": [
       "[0.066254223454389041,\n",
       " 0.2895229882348575,\n",
       " 0.55206785919664003,\n",
       " 0.0,\n",
       " 0.16815228646891087,\n",
       " 0.2658200052773918,\n",
       " 0.49593892046994648,\n",
       " 0.53026310994461812,\n",
       " 0.28906482631788788,\n",
       " 1.0,\n",
       " 0.29345568839744024,\n",
       " 0.72808554599071662,\n",
       " 0.0,\n",
       " 0.16716045496620227,\n",
       " 0.39038004999210169,\n",
       " 0.78591628563015836,\n",
       " 0.79095063250947362,\n",
       " 0.6366824387328317,\n",
       " 0.86301528970168828,\n",
       " 0.0,\n",
       " 0.44173955623824734,\n",
       " 0.066254223454389041,\n",
       " 0.61540622758623909,\n",
       " 0.2394408568026152,\n",
       " 0.30523488393970122,\n",
       " 0.24630238874072999,\n",
       " 0.39038004999210169,\n",
       " 0.62782484664154947,\n",
       " 0.0,\n",
       " 0.0,\n",
       " 0.0,\n",
       " 0.30657359638272919,\n",
       " 0.078398268978675342,\n",
       " 0.77880658698518745,\n",
       " 0.069431221936777282,\n",
       " 0.0,\n",
       " 0.64218672666890109,\n",
       " 0.69843659471198116,\n",
       " 0.14279514403613736,\n",
       " 0.21222636597291461,\n",
       " 0.40179981797758046,\n",
       " 0.0,\n",
       " 0.0,\n",
       " 0.0,\n",
       " 0.42492601381667111]"
      ]
     },
     "execution_count": 65,
     "metadata": {},
     "output_type": "execute_result"
    }
   ],
   "source": [
    "ndcgs\n"
   ]
  }
 ],
 "metadata": {
  "kernelspec": {
   "display_name": "Python 2",
   "language": "python",
   "name": "python2"
  },
  "language_info": {
   "codemirror_mode": {
    "name": "ipython",
    "version": 2
   },
   "file_extension": ".py",
   "mimetype": "text/x-python",
   "name": "python",
   "nbconvert_exporter": "python",
   "pygments_lexer": "ipython2",
   "version": "2.7.11"
  }
 },
 "nbformat": 4,
 "nbformat_minor": 0
}
